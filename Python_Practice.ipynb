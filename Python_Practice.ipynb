{
  "nbformat": 4,
  "nbformat_minor": 0,
  "metadata": {
    "colab": {
      "provenance": []
    },
    "kernelspec": {
      "name": "python3",
      "display_name": "Python 3"
    },
    "language_info": {
      "name": "python"
    }
  },
  "cells": [
    {
      "cell_type": "markdown",
      "source": [
        "wrie a rules and create a vairables\n",
        "-  A variable name must start with a letter or the underscore character\n",
        "-  A variable name cannot start with a digit\n",
        "-  Variables are case-sensitive\n",
        "-  A variable name must not have any keywords"
      ],
      "metadata": {
        "id": "IFSIUUboSb_W"
      }
    },
    {
      "cell_type": "markdown",
      "source": [
        "what is type function ?\n",
        "\n",
        "-  The type function in Python is a built-in function that returns the type of data stored in a variable or object in a program."
      ],
      "metadata": {
        "id": "AkRvqFDkTEIQ"
      }
    },
    {
      "cell_type": "code",
      "source": [
        "# example\n",
        "x = 1.7\n",
        "print(type(x))"
      ],
      "metadata": {
        "colab": {
          "base_uri": "https://localhost:8080/"
        },
        "id": "BUhQ0KUBzdxs",
        "outputId": "8ebd5bcf-0f1c-4918-ad8a-f456b467e3ce"
      },
      "execution_count": 12,
      "outputs": [
        {
          "output_type": "stream",
          "name": "stdout",
          "text": [
            "<class 'float'>\n"
          ]
        }
      ]
    },
    {
      "cell_type": "markdown",
      "source": [
        "what is the assiangment = to ==\n",
        "\n",
        "-  The = operator is used for assignment, such as when assigning a value to a variable.\n",
        "-  The == operator is the relational operator for checking equality of two values."
      ],
      "metadata": {
        "id": "m2-7pE3kT1fK"
      }
    },
    {
      "cell_type": "markdown",
      "source": [
        "what is  difference between mutable and immutable ?\n",
        "\n",
        "-  Mutable\n",
        "\n",
        "   A mutable object can be changed after it's created.\n",
        "\n",
        "-  Immutable\n",
        "\n",
        "   An immutable object cannot be changed after it's created."
      ],
      "metadata": {
        "id": "Xrlcj4QeUN3C"
      }
    },
    {
      "cell_type": "code",
      "source": [
        "# write a python code to print first to 10 natural numbers\n",
        "\n",
        "i = 1\n",
        "while i <= 10:\n",
        "    print(i)\n",
        "    i += 1\n"
      ],
      "metadata": {
        "colab": {
          "base_uri": "https://localhost:8080/"
        },
        "id": "hF2tcv5jYECP",
        "outputId": "34851cee-3cae-4159-d334-413f5c915018"
      },
      "execution_count": null,
      "outputs": [
        {
          "output_type": "stream",
          "name": "stdout",
          "text": [
            "1\n",
            "2\n",
            "3\n",
            "4\n",
            "5\n",
            "6\n",
            "7\n",
            "8\n",
            "9\n",
            "10\n"
          ]
        }
      ]
    },
    {
      "cell_type": "code",
      "source": [
        "# write a pyhton program sum(first ten natrual numbers)\n",
        "sum = 0\n",
        "for i in range(1,11):\n",
        "    sum += i\n",
        "print(sum)\n"
      ],
      "metadata": {
        "colab": {
          "base_uri": "https://localhost:8080/"
        },
        "id": "q7ep1l-FZxmE",
        "outputId": "aa550373-3eb2-4636-c2f5-84b79b25b2d9"
      },
      "execution_count": null,
      "outputs": [
        {
          "output_type": "stream",
          "name": "stdout",
          "text": [
            "55\n"
          ]
        }
      ]
    },
    {
      "cell_type": "code",
      "source": [
        "x = [1,2,3,4,5,6,7,8,9,10]\n",
        "sum = 0\n",
        "for i in x:\n",
        "    sum += i\n",
        "print(sum)"
      ],
      "metadata": {
        "colab": {
          "base_uri": "https://localhost:8080/"
        },
        "id": "OZVjYaOmaKjU",
        "outputId": "9182736f-ddd4-4f4d-e878-77adaf1cbc77"
      },
      "execution_count": null,
      "outputs": [
        {
          "output_type": "stream",
          "name": "stdout",
          "text": [
            "55\n"
          ]
        }
      ]
    },
    {
      "cell_type": "code",
      "source": [
        "# write a python program to identify given number is a prime number or not\n",
        "# write a python program fibanki series\n",
        "# write a python program to identify a given a factorial number\n",
        "# write a python program to print multiplication table of given number\n",
        "# write a python programto count total number of digits in a number\n",
        "# write a python program  for reverse the list\n",
        "# write a python program to display from (-10,-1)"
      ],
      "metadata": {
        "id": "3pgGnEMbcSsB"
      },
      "execution_count": null,
      "outputs": []
    },
    {
      "cell_type": "code",
      "source": [
        "print (143 & 420)"
      ],
      "metadata": {
        "colab": {
          "base_uri": "https://localhost:8080/"
        },
        "id": "IXrA2fv-oNuV",
        "outputId": "ad7bd0e0-4451-4234-b8c4-2a99513fbf85"
      },
      "execution_count": null,
      "outputs": [
        {
          "output_type": "stream",
          "name": "stdout",
          "text": [
            "132\n"
          ]
        }
      ]
    },
    {
      "cell_type": "code",
      "source": [
        "# write a python program to identify given number is a prime number or not\n",
        "\n",
        "x = int(input(\"enter a number\"))\n",
        "for i in range(2,x):\n",
        "    if x % i == 0:\n",
        "        print(\"not a prime number\")\n",
        "        break\n",
        "else:\n",
        "    print(\"prime number\")"
      ],
      "metadata": {
        "colab": {
          "base_uri": "https://localhost:8080/"
        },
        "id": "LdIRwz5Ooey2",
        "outputId": "d20b0849-28ea-4ac5-99da-743a487ed5c3"
      },
      "execution_count": null,
      "outputs": [
        {
          "output_type": "stream",
          "name": "stdout",
          "text": [
            "enter a number12\n",
            "not a prime number\n"
          ]
        }
      ]
    },
    {
      "cell_type": "code",
      "source": [
        "# write a python program to identify a given a factorial number\n",
        "x = int(input(\"enter a number\"))\n",
        "fact = 1\n",
        "for i in range(1,x+1):\n",
        "    fact *= i\n",
        "print(fact)"
      ],
      "metadata": {
        "colab": {
          "base_uri": "https://localhost:8080/"
        },
        "id": "0bpNL1jjuV9q",
        "outputId": "5e761cea-896c-4c97-f719-02367f860c0e"
      },
      "execution_count": null,
      "outputs": [
        {
          "output_type": "stream",
          "name": "stdout",
          "text": [
            "enter a number5\n",
            "120\n"
          ]
        }
      ]
    },
    {
      "cell_type": "code",
      "source": [
        "# write a python program to print multiplication table of given number\n",
        "\n",
        "x = int(input(\"enter a number\"))\n",
        "for i in range(1,11):\n",
        "    print(x,\"*\",i,\"=\",x*i)"
      ],
      "metadata": {
        "id": "oxjfh8BK72pR",
        "colab": {
          "base_uri": "https://localhost:8080/"
        },
        "outputId": "237a3150-1928-4c6b-850a-6930dab88446"
      },
      "execution_count": 1,
      "outputs": [
        {
          "output_type": "stream",
          "name": "stdout",
          "text": [
            "enter a number15\n",
            "15 * 1 = 15\n",
            "15 * 2 = 30\n",
            "15 * 3 = 45\n",
            "15 * 4 = 60\n",
            "15 * 5 = 75\n",
            "15 * 6 = 90\n",
            "15 * 7 = 105\n",
            "15 * 8 = 120\n",
            "15 * 9 = 135\n",
            "15 * 10 = 150\n"
          ]
        }
      ]
    },
    {
      "cell_type": "code",
      "source": [
        "# write a python program to count total number of digits in a number\n",
        "\n",
        "x = int(input(\"enter a number\"))\n",
        "count = 0\n",
        "for i in str (x):\n",
        "    count += 1\n",
        "print(count)"
      ],
      "metadata": {
        "id": "Lz0MEJfe75Bf",
        "colab": {
          "base_uri": "https://localhost:8080/"
        },
        "outputId": "e94ef6da-ac4b-480f-d6c7-4237730da633"
      },
      "execution_count": 6,
      "outputs": [
        {
          "output_type": "stream",
          "name": "stdout",
          "text": [
            "enter a number2353\n",
            "4\n"
          ]
        }
      ]
    },
    {
      "cell_type": "code",
      "source": [
        "# write a program for reverse the list\n",
        "x = [1,2,3,4,5,6,7,8,9,10]\n",
        "x.reverse()\n",
        "print(x)"
      ],
      "metadata": {
        "colab": {
          "base_uri": "https://localhost:8080/"
        },
        "id": "5ZoxNjJfvh_i",
        "outputId": "1807fbc4-6752-48cf-86ce-d931ca59997d"
      },
      "execution_count": 7,
      "outputs": [
        {
          "output_type": "stream",
          "name": "stdout",
          "text": [
            "[10, 9, 8, 7, 6, 5, 4, 3, 2, 1]\n"
          ]
        }
      ]
    },
    {
      "cell_type": "code",
      "source": [
        "# write a pyhton program to display from (-10,-1) usinf loop\n",
        "\n",
        "x = -10\n",
        "while x < -1:\n",
        "    print(x)\n",
        "    x += 1\n"
      ],
      "metadata": {
        "colab": {
          "base_uri": "https://localhost:8080/"
        },
        "id": "eW7S9hDgyMGw",
        "outputId": "89905dad-3d0b-4598-935d-f7373925bb05"
      },
      "execution_count": 9,
      "outputs": [
        {
          "output_type": "stream",
          "name": "stdout",
          "text": [
            "-10\n",
            "-9\n",
            "-8\n",
            "-7\n",
            "-6\n",
            "-5\n",
            "-4\n",
            "-3\n",
            "-2\n"
          ]
        }
      ]
    }
  ]
}