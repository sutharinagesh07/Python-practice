{
  "nbformat": 4,
  "nbformat_minor": 0,
  "metadata": {
    "colab": {
      "provenance": []
    },
    "kernelspec": {
      "name": "python3",
      "display_name": "Python 3"
    },
    "language_info": {
      "name": "python"
    }
  },
  "cells": [
    {
      "cell_type": "markdown",
      "source": [
        "Explain About Pyhton Function ?\n",
        "\n",
        "-  A function is a block of code that performs a specific task.\n",
        "-  you can pass data known as parameters into a function.\n",
        "-  a function can return data as a result."
      ],
      "metadata": {
        "id": "qAVqfuhPe3B5"
      }
    },
    {
      "cell_type": "markdown",
      "source": [
        "Type of Functions ?\n",
        "\n",
        "-  Standard library functions : these are built in  functions in python that are availble to use.\n",
        "-  User- defined function : we can create our own functions based on our requirments."
      ],
      "metadata": {
        "id": "GqieIwqDflnf"
      }
    },
    {
      "cell_type": "code",
      "execution_count": null,
      "metadata": {
        "colab": {
          "base_uri": "https://localhost:8080/"
        },
        "id": "Tjs3nLXfa4IR",
        "outputId": "bc3f922e-2fc6-4271-93fd-88ec030689eb"
      },
      "outputs": [
        {
          "output_type": "stream",
          "name": "stdout",
          "text": [
            "my name sai and i am 27\n"
          ]
        }
      ],
      "source": [
        "\n",
        "def hello (name,age):\n",
        " print (f\"my name {name} and i am {age}\")\n",
        "hello(\"sai\",27)"
      ]
    },
    {
      "cell_type": "code",
      "source": [
        "hello(\"atheesh\",50)"
      ],
      "metadata": {
        "colab": {
          "base_uri": "https://localhost:8080/"
        },
        "id": "bFGGFvRzplbJ",
        "outputId": "15ff7b9d-519a-420c-ec93-2b042013482f"
      },
      "execution_count": null,
      "outputs": [
        {
          "output_type": "stream",
          "name": "stdout",
          "text": [
            "my name atheesh and i am 50\n"
          ]
        }
      ]
    },
    {
      "cell_type": "code",
      "source": [
        "hello(\"raju\",75)"
      ],
      "metadata": {
        "colab": {
          "base_uri": "https://localhost:8080/"
        },
        "id": "58HSBoe_ptzt",
        "outputId": "08607e48-c024-41e2-f393-4f68593f3bcc"
      },
      "execution_count": null,
      "outputs": [
        {
          "output_type": "stream",
          "name": "stdout",
          "text": [
            "my name raju and i am 75\n"
          ]
        }
      ]
    },
    {
      "cell_type": "code",
      "source": [
        " def doodle (name,age,location):\n",
        "  print(f\"my name {name} and i am {age} and i am from {location}\")\n",
        "name = input(\"enter your name\")\n",
        "age = int(input(\"enter your age\"))\n",
        "location = input(\"enter your location\")\n",
        "doodle(name,age,location)"
      ],
      "metadata": {
        "colab": {
          "base_uri": "https://localhost:8080/"
        },
        "id": "Dul8fPNWtRUE",
        "outputId": "1cea73ea-ed40-4bac-b1f1-e8cc323c3070"
      },
      "execution_count": null,
      "outputs": [
        {
          "output_type": "stream",
          "name": "stdout",
          "text": [
            "enter your namesai\n",
            "enter your age27\n",
            "enter your locationsdpt\n",
            "my name sai and i am 27 and i am from sdpt\n"
          ]
        }
      ]
    },
    {
      "cell_type": "code",
      "source": [
        "bikes = [\"fz\",\"pulsar\",\"duke\",\"activa\"]\n",
        "print(bikes)\n",
        "\n",
        "user = input (\"please enter give me a bike\")\n",
        "if user in bikes:\n",
        "  print(\"yes\")\n",
        "else:\n",
        "  print(\"no\")"
      ],
      "metadata": {
        "colab": {
          "base_uri": "https://localhost:8080/"
        },
        "id": "Gno_XKFsskf0",
        "outputId": "f75aae9d-0454-4450-889a-fc2346b5005b"
      },
      "execution_count": null,
      "outputs": [
        {
          "output_type": "stream",
          "name": "stdout",
          "text": [
            "['fz', 'pulsar', 'duke', 'activa']\n",
            "please enter give me a bikexl\n",
            "no\n"
          ]
        }
      ]
    },
    {
      "cell_type": "code",
      "source": [
        "# 1Q write a python code to check if  a number is a prime or not using function\n",
        "# 2q print the following number pattern\n",
        "# 3q write a python code to convert sellsias to forien kit\n",
        "# 4q write a function to calculte simple intrest\n",
        "# 5q write a function to calculate compound intrest\n",
        "# 6Q wrie a python code converting an integer into decimal using in function\n",
        "# 7q wrie a python code given character is digit or not\n",
        "# 8q wrie a python code given character is amstrong or not\n",
        "# 9q wrie a python code given strings are anagram or not\n",
        "# 10q wrie a python code non repeating a first occurance\n",
        "# 11q wrie a python of greatest common divisor\n",
        "# 12q wrie a python code remove duplicates from a list\n",
        "# 13Q wrie a python program to replace the string space by given character\n",
        "# 14Q writ a python to swap two numbers by not using third value\n",
        "# 15q to add two integer with out using any arthamatic operator"
      ],
      "metadata": {
        "id": "9bAuTvtFw8JB"
      },
      "execution_count": null,
      "outputs": []
    },
    {
      "cell_type": "code",
      "source": [
        "# 1Q write a python code to check if  a number is a prime or not using function\n",
        "\n",
        "x = int(input(\"enter a number\"))\n",
        "\n",
        "def prime(x):\n",
        "  for i in range(2,x):\n",
        "    if x % i == 0:\n",
        "      print(\"not prime\")\n",
        "      break\n",
        "  else:\n",
        "    print(\"prime\")\n",
        "prime(x)"
      ],
      "metadata": {
        "colab": {
          "base_uri": "https://localhost:8080/"
        },
        "id": "JHQu2qfk70ld",
        "outputId": "55772675-ec44-450e-a08e-6111517af42c"
      },
      "execution_count": null,
      "outputs": [
        {
          "output_type": "stream",
          "name": "stdout",
          "text": [
            "enter a number7\n",
            "prime\n"
          ]
        }
      ]
    },
    {
      "cell_type": "code",
      "source": [
        "# 2q write a python code print the following number pattern\n",
        "x = int(input(\"enter a number\"))\n",
        "for i in range(1,x+1):\n",
        "  for j in range(1,i+1):\n",
        "    print(j,end=\" \")\n",
        "  print(i)"
      ],
      "metadata": {
        "colab": {
          "base_uri": "https://localhost:8080/"
        },
        "id": "jgeb6fAo-r5C",
        "outputId": "ef9e032c-e38a-4dac-8dd1-1665bd43002c"
      },
      "execution_count": null,
      "outputs": [
        {
          "output_type": "stream",
          "name": "stdout",
          "text": [
            "enter a number7\n",
            "1 1\n",
            "1 2 2\n",
            "1 2 3 3\n",
            "1 2 3 4 4\n",
            "1 2 3 4 5 5\n",
            "1 2 3 4 5 6 6\n",
            "1 2 3 4 5 6 7 7\n"
          ]
        }
      ]
    },
    {
      "cell_type": "code",
      "source": [
        "# 4q write a function to calculte simple intrest\n",
        "p = int(input(\"enter a principal\"))\n",
        "r = int(input(\"enter a rate\"))\n",
        "t = int(input(\"enter a months\"))\n",
        "def simple(p,r,t):\n",
        "  print((p*r*t)/100)\n",
        "simple(p,r,t)\n"
      ],
      "metadata": {
        "colab": {
          "base_uri": "https://localhost:8080/"
        },
        "id": "awkwC8Np_VhJ",
        "outputId": "9d6512a4-33c5-4780-91f6-7d4b2d7739e3"
      },
      "execution_count": null,
      "outputs": [
        {
          "output_type": "stream",
          "name": "stdout",
          "text": [
            "enter a principal200000\n",
            "enter a rate2\n",
            "enter a months12\n",
            "48000.0\n"
          ]
        }
      ]
    },
    {
      "cell_type": "code",
      "source": [
        "# 5q write a function to calculate compound intrest\n",
        "p = int(input(\"enter a principal\"))\n",
        "r = int(input(\"enter a rate\"))\n",
        "t = int(input(\"enter a months\"))\n",
        "def compound(p,r,t):\n",
        "  print(p*((1+(r/100))**t))\n",
        "compound(p,r,t)"
      ],
      "metadata": {
        "colab": {
          "base_uri": "https://localhost:8080/"
        },
        "id": "DXlgCVFc_yOM",
        "outputId": "7ecfd035-fefc-45c5-deea-a895ee2f9625"
      },
      "execution_count": null,
      "outputs": [
        {
          "output_type": "stream",
          "name": "stdout",
          "text": [
            "enter a principal200000\n",
            "enter a rate2\n",
            "enter a months12\n",
            "253648.3589125091\n"
          ]
        }
      ]
    },
    {
      "cell_type": "code",
      "source": [
        "# 6Q wrie a python code converting an integer into decimal using in function\n",
        "x = int(input(\"enter a number\"))\n",
        "def decimal(x):\n",
        "  print(bin(x))\n",
        "decimal(x)"
      ],
      "metadata": {
        "colab": {
          "base_uri": "https://localhost:8080/"
        },
        "id": "G_PF_jmRACH2",
        "outputId": "229d559d-34fb-4cd1-97a7-f65c7814bd03"
      },
      "execution_count": null,
      "outputs": [
        {
          "output_type": "stream",
          "name": "stdout",
          "text": [
            "enter a number12636\n",
            "0b11000101011100\n"
          ]
        }
      ]
    },
    {
      "cell_type": "code",
      "source": [
        "# 7q write a python code given character is digit or not\n",
        "x = input(\"enter a character\")\n",
        "def digit(x):\n",
        "  if x.isdigit():\n",
        "    print(\"digit\")\n",
        "  else:\n",
        "    print(\"not digit\")\n",
        "digit(x)"
      ],
      "metadata": {
        "colab": {
          "base_uri": "https://localhost:8080/"
        },
        "id": "-TS7X7eJBu0Z",
        "outputId": "339c8190-6ef3-4d2e-a02c-eda0df9d6df4"
      },
      "execution_count": null,
      "outputs": [
        {
          "output_type": "stream",
          "name": "stdout",
          "text": [
            "enter a character143\n",
            "digit\n"
          ]
        }
      ]
    },
    {
      "cell_type": "code",
      "source": [
        "# 8q write a python code given character is amstrong or not\n",
        "x = input(\"enter a number\")\n",
        "def amstrong(x):\n",
        "  sum = 0\n",
        "  for i in x:\n",
        "    sum += int(i)**3\n",
        "  if sum == int(x):\n",
        "    print(\"amstrong\")\n",
        "  else:\n",
        "    print(\"not amstrong\")\n",
        "amstrong(x)"
      ],
      "metadata": {
        "colab": {
          "base_uri": "https://localhost:8080/"
        },
        "id": "-MBqueekD_f1",
        "outputId": "b42e161b-0911-46c8-9805-1b8521e34d35"
      },
      "execution_count": null,
      "outputs": [
        {
          "output_type": "stream",
          "name": "stdout",
          "text": [
            "enter a number153\n",
            "amstrong\n"
          ]
        }
      ]
    },
    {
      "cell_type": "code",
      "source": [
        "# 9q write a pyhton code  given strings are anagram or not\n",
        "x = input(\"enter a string\")\n",
        "y = input(\"enter a string\")\n",
        "def anagram(x,y):\n",
        "  if sorted(x) == sorted(y):\n",
        "    print(\"anagram\")\n",
        "  else:\n",
        "    print(\"not anagram\")\n"
      ],
      "metadata": {
        "id": "JYoxHUOaEcMS"
      },
      "execution_count": null,
      "outputs": []
    },
    {
      "cell_type": "code",
      "source": [
        "# 10q write a pyhton code on repeating a first occurance\n",
        "x = input(\"enter a string\")\n",
        "def first(x):\n",
        "  for i in x:\n",
        "    if x.count(i) == 1:\n",
        "      print(i)\n",
        "      break\n",
        "first(x)"
      ],
      "metadata": {
        "id": "rotWptSSStwA",
        "colab": {
          "base_uri": "https://localhost:8080/"
        },
        "outputId": "26e35009-ffe5-4872-d7b1-485fd795e119"
      },
      "execution_count": null,
      "outputs": [
        {
          "output_type": "stream",
          "name": "stdout",
          "text": [
            "enter a string45776\n",
            "4\n"
          ]
        }
      ]
    },
    {
      "cell_type": "code",
      "source": [
        "# 11q write a python code of greatest common divisor\n",
        "x = int(input(\"enter a number\"))\n",
        "y = int(input(\"enter a number\"))\n",
        "def gcd(x,y):\n",
        "  if x > y:\n",
        "    smaller = y\n",
        "  else:\n",
        "    smaller = x\n",
        "  for i in range(1,smaller+1):\n",
        "    if x % i == 0 and y % i == 0:\n",
        "      gcd = i\n",
        "  print(gcd)\n",
        "gcd(x,y)"
      ],
      "metadata": {
        "id": "SgDdtp-QkUnh",
        "colab": {
          "base_uri": "https://localhost:8080/"
        },
        "outputId": "20ee89d6-9723-4757-9e55-adfe1a7636a9"
      },
      "execution_count": null,
      "outputs": [
        {
          "output_type": "stream",
          "name": "stdout",
          "text": [
            "enter a number36\n",
            "enter a number60\n",
            "12\n"
          ]
        }
      ]
    },
    {
      "cell_type": "code",
      "source": [
        "# 12q write a python code using for functions remove duplicates from a list\n",
        "x = [7,21,45,7,89,36,21,45,36,7,8,45,61,34,21]\n",
        "def remove(x):\n",
        "  y = []\n",
        "  for i in x:\n",
        "    if i not in y:\n",
        "      y.append(i)\n",
        "  print(y)\n",
        "remove(x)"
      ],
      "metadata": {
        "colab": {
          "base_uri": "https://localhost:8080/"
        },
        "id": "n5fCNPLpvIJW",
        "outputId": "76a1f2ba-6931-40d5-f2d4-1e9473882aa7"
      },
      "execution_count": null,
      "outputs": [
        {
          "output_type": "stream",
          "name": "stdout",
          "text": [
            "[7, 21, 45, 89, 36, 8, 61, 34]\n"
          ]
        }
      ]
    },
    {
      "cell_type": "code",
      "source": [
        "# 13Q wrie a python program to replace the string space by given character\n",
        "x = input(\"enter a string\")\n",
        "y = input(\"enter a character\")\n",
        "def replace(x,y):\n",
        "  print(x.replace(\" \",y))\n",
        "replace(x,y)"
      ],
      "metadata": {
        "colab": {
          "base_uri": "https://localhost:8080/"
        },
        "id": "-3lW92rfzQg-",
        "outputId": "c087fa3d-8d35-48e2-b879-4529b6d03bb5"
      },
      "execution_count": null,
      "outputs": [
        {
          "output_type": "stream",
          "name": "stdout",
          "text": [
            "enter a string777\n",
            "enter a characterlucky\n",
            "777\n"
          ]
        }
      ]
    },
    {
      "cell_type": "code",
      "source": [
        "# 14Q writ a python to swap two numbers by not using third value\n",
        "x = int(input(\"enter a number\"))\n",
        "y = int(input(\"enter a number\"))\n",
        "def swap(x,y):\n",
        "  x,y = y,x\n",
        "  print(x,y)\n",
        "swap(x,y)"
      ],
      "metadata": {
        "colab": {
          "base_uri": "https://localhost:8080/"
        },
        "id": "EGLYwo9E3FBU",
        "outputId": "dffdae78-6db0-4656-e97a-386ecd05f9d5"
      },
      "execution_count": null,
      "outputs": [
        {
          "output_type": "stream",
          "name": "stdout",
          "text": [
            "enter a number7\n",
            "enter a number8\n",
            "8 7\n"
          ]
        }
      ]
    },
    {
      "cell_type": "code",
      "source": [
        "# 15q to add two integer with out using any arthamatic operator\n",
        "x = int(input(\"enter a number\"))\n",
        "y = int(input(\"enter a number\"))\n",
        "def add(x,y):\n",
        "  while y != 0:\n",
        "    carry = x & y\n",
        "    x = x ^ y\n",
        "    y = carry << 1\n",
        "  return x\n",
        "add(x,y)"
      ],
      "metadata": {
        "colab": {
          "base_uri": "https://localhost:8080/"
        },
        "id": "BmqnXxDn4H_R",
        "outputId": "7ce9feca-0a82-4c5a-cbb0-ccb221fdc3b1"
      },
      "execution_count": null,
      "outputs": [
        {
          "name": "stdout",
          "output_type": "stream",
          "text": [
            "enter a number20\n",
            "enter a number40\n"
          ]
        },
        {
          "output_type": "execute_result",
          "data": {
            "text/plain": [
              "60"
            ]
          },
          "metadata": {},
          "execution_count": 21
        }
      ]
    },
    {
      "cell_type": "code",
      "source": [],
      "metadata": {
        "id": "m6FIn_yx4kk8"
      },
      "execution_count": null,
      "outputs": []
    }
  ]
}