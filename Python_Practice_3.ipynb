{
  "nbformat": 4,
  "nbformat_minor": 0,
  "metadata": {
    "colab": {
      "provenance": []
    },
    "kernelspec": {
      "name": "python3",
      "display_name": "Python 3"
    },
    "language_info": {
      "name": "python"
    }
  },
  "cells": [
    {
      "cell_type": "code",
      "source": [
        "# write a python code to convert list(charcater) into string\n",
        "\n",
        "PK = ['b','a','d','r','i']\n",
        "PsPk = ''.join(PK)\n",
        "print(PsPk)"
      ],
      "metadata": {
        "id": "74W1MtOvgD3D",
        "colab": {
          "base_uri": "https://localhost:8080/"
        },
        "outputId": "87a1ebaf-d14f-4111-a997-83d22994d401"
      },
      "execution_count": null,
      "outputs": [
        {
          "output_type": "stream",
          "name": "stdout",
          "text": [
            "badri\n"
          ]
        }
      ]
    },
    {
      "cell_type": "code",
      "source": [
        "base= int(input(\"enter the base\"))\n",
        "height = int(input(\"enter the height\"))\n",
        "area = 1/2*base*height\n",
        "print(area)\n",
        "\n"
      ],
      "metadata": {
        "colab": {
          "base_uri": "https://localhost:8080/"
        },
        "id": "-JZZqB-Uons1",
        "outputId": "618ea840-d294-40ae-a80d-6e80597f060d"
      },
      "execution_count": null,
      "outputs": [
        {
          "output_type": "stream",
          "name": "stdout",
          "text": [
            "enter the base10\n",
            "enter the height5\n",
            "25.0\n"
          ]
        }
      ]
    },
    {
      "cell_type": "code",
      "source": [
        "# write a python code based on angle to identify acute ,obtuse,and right angles\n",
        "\n",
        "angle = 75\n",
        "if angle < 90:\n",
        "  print(\"acute angle\")\n",
        "elif angle == 90:\n",
        "  print(\"right angle\")\n",
        "else:\n",
        "  print(\"obtuse angle\")"
      ],
      "metadata": {
        "id": "qGtXnWwjeX2w",
        "colab": {
          "base_uri": "https://localhost:8080/"
        },
        "outputId": "67c15a2b-073a-4424-97c8-590711a2d9cc"
      },
      "execution_count": 13,
      "outputs": [
        {
          "output_type": "stream",
          "name": "stdout",
          "text": [
            "acute angle\n"
          ]
        }
      ]
    },
    {
      "cell_type": "code",
      "source": [
        "angle1 = int (input(\"enter the angle\"))\n",
        "angle2 = int (input(\"enter the angle\"))\n",
        "angle3 = int (input(\"enter the angle\"))\n",
        "\n",
        "if angle1 + angle2 + angle3 <90:\n",
        "  print(\"acute triangle\")\n",
        "elif angle1 + angle2 + angle3 == 90:\n",
        "  print(\"right triangle\")\n",
        "else:\n",
        "  print(\"obtuse triangle\")"
      ],
      "metadata": {
        "colab": {
          "base_uri": "https://localhost:8080/"
        },
        "id": "5GR727kzpMJh",
        "outputId": "a6e7387f-dbd5-4d3d-9690-c605b3819c23"
      },
      "execution_count": 29,
      "outputs": [
        {
          "output_type": "stream",
          "name": "stdout",
          "text": [
            "enter the angle 45\n",
            "enter the angle65\n",
            "enter the angle80\n",
            "obtuse triangle\n"
          ]
        }
      ]
    },
    {
      "cell_type": "code",
      "source": [
        "# write a python program  to represent a basic calculator with add,subtraction,multiplication,and divison methods"
      ],
      "metadata": {
        "id": "whRhUYBQqWNy"
      },
      "execution_count": null,
      "outputs": []
    },
    {
      "cell_type": "code",
      "source": [
        "class calculator:\n",
        "  def __init__(self,a,b):\n",
        "    self.a = a\n",
        "    self.b = b\n",
        "\n",
        "  def add(self):\n",
        "    return self.a + self.b\n",
        "\n",
        "  def sub(self):\n",
        "    return self.a - self.b\n",
        "\n",
        "  def mul(self):\n",
        "    return self.a * self.b\n",
        "\n",
        "  def div(self):\n",
        "    return self.a / self.b\n"
      ],
      "metadata": {
        "id": "aq30IleRjwnJ"
      },
      "execution_count": 11,
      "outputs": []
    },
    {
      "cell_type": "code",
      "source": [
        "dell = calculator(2,7)\n",
        "\n",
        "dell.mul()"
      ],
      "metadata": {
        "colab": {
          "base_uri": "https://localhost:8080/"
        },
        "id": "YuSx3mKOj1of",
        "outputId": "dc053eb5-eb43-4665-dc55-6d402c7d16aa"
      },
      "execution_count": 26,
      "outputs": [
        {
          "output_type": "execute_result",
          "data": {
            "text/plain": [
              "14"
            ]
          },
          "metadata": {},
          "execution_count": 26
        }
      ]
    },
    {
      "cell_type": "code",
      "source": [
        "# create a class to represent a movie with atributes like titile,director and rating"
      ],
      "metadata": {
        "id": "_Edg6n-At2Kr"
      },
      "execution_count": null,
      "outputs": []
    },
    {
      "cell_type": "code",
      "source": [
        "class Movie:\n",
        "    def __init__(self, title, director, rating):\n",
        "        self.title = title\n",
        "        self.director = director\n",
        "        self.rating = rating\n",
        "\n",
        "    def __str__(self):\n",
        "        return f\"Title: {self.title}, Director: {self.director}, Rating: {self.rating}\"\n",
        "\n",
        "# Example usage:\n",
        "movie1 = Movie(\"kushi\", \"S.J.SURYAH\", 5.0)\n",
        "print(movie1)"
      ],
      "metadata": {
        "colab": {
          "base_uri": "https://localhost:8080/"
        },
        "id": "Di8mUEjdqVD6",
        "outputId": "719a7ba4-ab4b-47c6-b9bb-bdf11e75c6ab"
      },
      "execution_count": 22,
      "outputs": [
        {
          "output_type": "stream",
          "name": "stdout",
          "text": [
            "Title: kushi, Director: S.J.SURYAH, Rating: 5.0\n"
          ]
        }
      ]
    },
    {
      "cell_type": "code",
      "source": [],
      "metadata": {
        "id": "sb0dlKtQnj5s"
      },
      "execution_count": null,
      "outputs": []
    }
  ]
}